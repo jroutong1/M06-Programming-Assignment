{
 "cells": [
  {
   "cell_type": "code",
   "execution_count": 1,
   "id": "6a9f465a",
   "metadata": {},
   "outputs": [],
   "source": [
    "from datetime import date\n",
    "\n",
    "today = date.today()\n",
    "today = today.strftime(\"%m/%d/%y\")\n",
    "\n",
    "f = open(\"today.txt\", \"a\")\n",
    "f.write(today)\n",
    "f.close()"
   ]
  },
  {
   "cell_type": "code",
   "execution_count": 2,
   "id": "b329722c",
   "metadata": {},
   "outputs": [],
   "source": [
    "f = open(\"today.txt\", \"r\")\n",
    "today_string = f.read()\n",
    "f.close()"
   ]
  },
  {
   "cell_type": "code",
   "execution_count": 3,
   "id": "9ecf5f46",
   "metadata": {},
   "outputs": [
    {
     "name": "stdout",
     "output_type": "stream",
     "text": [
      "02/23/24\n"
     ]
    }
   ],
   "source": [
    "print(today_string)"
   ]
  },
  {
   "cell_type": "code",
   "execution_count": 4,
   "id": "1182e51c",
   "metadata": {},
   "outputs": [
    {
     "name": "stdout",
     "output_type": "stream",
     "text": [
      "2024-02-23 16:49:01.813355\n",
      "2024-02-23 16:49:01.969658\n",
      "2024-02-23 16:49:02.789616\n"
     ]
    }
   ],
   "source": [
    "import multiprocessing\n",
    "from datetime import datetime\n",
    "import time\n",
    "import random\n",
    "\n",
    "def the_stuff():\n",
    "   the_time = datetime.now()\n",
    "   print(str(the_time))\n",
    "   time.sleep(random.random())\n",
    "\n",
    "if __name__ == '__main__':\n",
    "   proc1 = multiprocessing.Process(target=the_stuff())\n",
    "   proc2 = multiprocessing.Process(target=the_stuff())\n",
    "   proc3 = multiprocessing.Process(target=the_stuff())\n",
    "   proc1.start()\n",
    "   proc2.start()\n",
    "   proc3.start()\n",
    "   proc1.join()\n",
    "   proc2.join()\n",
    "   proc3.join()"
   ]
  },
  {
   "cell_type": "code",
   "execution_count": null,
   "id": "87062182",
   "metadata": {},
   "outputs": [],
   "source": []
  }
 ],
 "metadata": {
  "kernelspec": {
   "display_name": "Python 3 (ipykernel)",
   "language": "python",
   "name": "python3"
  },
  "language_info": {
   "codemirror_mode": {
    "name": "ipython",
    "version": 3
   },
   "file_extension": ".py",
   "mimetype": "text/x-python",
   "name": "python",
   "nbconvert_exporter": "python",
   "pygments_lexer": "ipython3",
   "version": "3.11.5"
  }
 },
 "nbformat": 4,
 "nbformat_minor": 5
}
